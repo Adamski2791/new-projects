{
 "cells": [
  {
   "cell_type": "code",
   "execution_count": 3,
   "id": "601fd0f3",
   "metadata": {
    "scrolled": true
   },
   "outputs": [
    {
     "name": "stdout",
     "output_type": "stream",
     "text": [
      "Sunrise: 2023-06-17 05:24:00-00:01\n",
      "Sunset: 2023-06-17 17:24:00-00:01\n"
     ]
    }
   ],
   "source": [
    "import datetime\n",
    "import pytz\n",
    "\n",
    "def calculate_sunrise_sunset(date, latitude, longitude):\n",
    "  \"\"\"Calculates the sunrise and sunset times for a given date, latitude, and longitude.\n",
    "\n",
    "  Args:\n",
    "    date: The date to calculate the sunrise and sunset times for.\n",
    "    latitude: The latitude of the location.\n",
    "    longitude: The longitude of the location.\n",
    "\n",
    "  Returns:\n",
    "    A tuple of the sunrise and sunset times.\n",
    "  \"\"\"\n",
    "\n",
    "  tz = pytz.timezone(\"Europe/Belfast\")\n",
    "  dt = datetime.datetime.combine(date, datetime.time.min, tzinfo=tz)\n",
    "  sunrise = dt.replace(hour=6, minute=0, second=0, microsecond=0)\n",
    "  sunset = dt.replace(hour=18, minute=0, second=0, microsecond=0)\n",
    "\n",
    "  # Adjust sunrise and sunset times for the location's latitude and longitude.\n",
    "\n",
    "  sunrise = sunrise - datetime.timedelta(minutes=60 * (latitude - 54))\n",
    "  sunset = sunset + datetime.timedelta(minutes=60 * (54 - latitude))\n",
    "\n",
    "  return sunrise, sunset\n",
    "\n",
    "if __name__ == \"__main__\":\n",
    "  date = datetime.date(2023, 6, 17)\n",
    "  latitude = 54.6\n",
    "  longitude = -5.9\n",
    "  sunrise, sunset = calculate_sunrise_sunset(date, latitude, longitude)\n",
    "  print(f\"Sunrise: {sunrise}\")\n",
    "  print(f\"Sunset: {sunset}\")\n"
   ]
  },
  {
   "cell_type": "code",
   "execution_count": null,
   "id": "b4c127d5",
   "metadata": {},
   "outputs": [],
   "source": []
  }
 ],
 "metadata": {
  "kernelspec": {
   "display_name": "Python 3 (ipykernel)",
   "language": "python",
   "name": "python3"
  },
  "language_info": {
   "codemirror_mode": {
    "name": "ipython",
    "version": 3
   },
   "file_extension": ".py",
   "mimetype": "text/x-python",
   "name": "python",
   "nbconvert_exporter": "python",
   "pygments_lexer": "ipython3",
   "version": "3.9.7"
  }
 },
 "nbformat": 4,
 "nbformat_minor": 5
}
