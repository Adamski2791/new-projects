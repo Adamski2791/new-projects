{
 "cells": [
  {
   "cell_type": "code",
   "execution_count": null,
   "id": "0730a5ff",
   "metadata": {},
   "outputs": [],
   "source": [
    "import datetime\n",
    "import pytz\n",
    "import schedule\n",
    "\n",
    "def turn_on_lights():\n",
    "  \"\"\"Turns on the lights.\"\"\"\n",
    "  print(\"Turning on the lights.\")\n",
    "\n",
    "def turn_off_lights():\n",
    "  \"\"\"Turns off the lights.\"\"\"\n",
    "  print(\"Turning off the lights.\")\n",
    "\n",
    "def calculate_sunrise_sunset(date, latitude, longitude):\n",
    "  \"\"\"Calculates the sunrise and sunset times for a given date, latitude, and longitude.\n",
    "\n",
    "  Args:\n",
    "    date: The date to calculate the sunrise and sunset times for.\n",
    "    latitude: The latitude of the location.\n",
    "    longitude: The longitude of the location.\n",
    "\n",
    "  Returns:\n",
    "    A tuple of the sunrise and sunset times.\n",
    "  \"\"\"\n",
    "\n",
    "  tz = pytz.timezone(\"Europe/Belfast\")\n",
    "  dt = datetime.datetime.combine(date, datetime.time.min, tzinfo=tz)\n",
    "  sunrise = dt.replace(hour=6, minute=0, second=0, microsecond=0)\n",
    "  sunset = dt.replace(hour=18, minute=0, second=0, microsecond=0)\n",
    "\n",
    "  # Adjust sunrise and sunset times for the location's latitude and longitude.\n",
    "\n",
    "  sunrise = sunrise - datetime.timedelta(minutes=60 * (latitude - 54))\n",
    "  sunset = sunset + datetime.timedelta(minutes=60 * (54 - latitude))\n",
    "\n",
    "  return sunrise, sunset\n",
    "\n",
    "if __name__ == \"__main__\":\n",
    "  date = datetime.date(2023, 6, 17)\n",
    "  latitude = 54.6\n",
    "  longitude = -5.9\n",
    "  sunrise, sunset = calculate_sunrise_sunset(date, latitude, longitude)\n",
    "  print(f\"Sunrise: {sunrise}\")\n",
    "  print(f\"Sunset: {sunset}\")\n",
    "\n",
    "  schedule.every().day.at(sunrise - datetime.timedelta(minutes=30)).do(turn_on_lights)\n",
    "  schedule.every().day.at(sunset + datetime.timedelta(minutes=30)).do(turn_off_lights)\n",
    "#This code will turn on the lights 30 minutes before sunset and turn them off 30 minutes after sunrise. \n",
    "#The code will repeat every day until it is stopped.\n",
    "\n",
    "  while True:\n",
    "    schedule.run_pending()\n",
    "    time.sleep(1)\n",
    "\n"
   ]
  }
 ],
 "metadata": {
  "kernelspec": {
   "display_name": "Python 3 (ipykernel)",
   "language": "python",
   "name": "python3"
  },
  "language_info": {
   "codemirror_mode": {
    "name": "ipython",
    "version": 3
   },
   "file_extension": ".py",
   "mimetype": "text/x-python",
   "name": "python",
   "nbconvert_exporter": "python",
   "pygments_lexer": "ipython3",
   "version": "3.9.7"
  }
 },
 "nbformat": 4,
 "nbformat_minor": 5
}
