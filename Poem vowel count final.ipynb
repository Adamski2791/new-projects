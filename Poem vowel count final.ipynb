{
 "cells": [
  {
   "cell_type": "code",
   "execution_count": 4,
   "id": "4f7e713a",
   "metadata": {},
   "outputs": [
    {
     "name": "stdout",
     "output_type": "stream",
     "text": [
      "Enter poem: ’Twas brillig, and the slithy toves       Did gyre and gimble in the wabe: All mimsy were the borogoves,       And the mome raths outgrabe.   “Beware the Jabberwock, my son!       The jaws that bite, the claws that catch! Beware the Jubjub bird, and shun       The frumious Bandersnatch!”   He took his vorpal sword in hand;       Long time the manxome foe he sought— So rested he by the Tumtum tree       And stood awhile in thought.   And, as in uffish thought he stood,       The Jabberwock, with eyes of flame, Came whiffling through the tulgey wood,       And burbled as it came!   One, two! One, two! And through and through       The vorpal blade went snicker-snack! He left it dead, and with its head       He went galumphing back.   “And hast thou slain the Jabberwock?       Come to my arms, my beamish boy! O frabjous day! Callooh! Callay!”       He chortled in his joy.   ’Twas brillig, and the slithy toves       Did gyre and gimble in the wabe: All mimsy were the borogoves,       And the mome raths outgrabe.\n",
      "240\n"
     ]
    }
   ],
   "source": [
    "Lowercase_vowel = ['a', 'e', 'i', 'o', 'u']    #This will be the list of characters that we're searching for.\n",
    "Uppercase_vowel = ['A', 'E', 'I', 'O', 'U']    # I've broken them up in to two groups upper and lower case.\n",
    "Poem = input(\"Enter poem: \")                   #This lets the user input some text.\n",
    "count = 0                                      #Count starts at zero\n",
    "for letter in Poem:                            #I'm using a for loop to iterate over the sequence of letters.\n",
    "    if letter in Lowercase_vowel:              #If letter is a lowercase vowel, it will be counted.\n",
    "        count += 1                             #Every time we find a letter the count rises by 1.\n",
    "print(count)                                   #Print will then send result to the console"
   ]
  },
  {
   "cell_type": "code",
   "execution_count": 1,
   "id": "66abb42b",
   "metadata": {},
   "outputs": [
    {
     "name": "stdout",
     "output_type": "stream",
     "text": [
      "Enter poem:  ’Twas brillig, and the slithy toves       Did gyre and gimble in the wabe: All mimsy were the borogoves,       And the mome raths outgrabe.   “Beware the Jabberwock, my son!       The jaws that bite, the claws that catch! Beware the Jubjub bird, and shun       The frumious Bandersnatch!”   He took his vorpal sword in hand;       Long time the manxome foe he sought— So rested he by the Tumtum tree       And stood awhile in thought.   And, as in uffish thought he stood,       The Jabberwock, with eyes of flame, Came whiffling through the tulgey wood,       And burbled as it came!   One, two! One, two! And through and through       The vorpal blade went snicker-snack! He left it dead, and with its head       He went galumphing back.   “And hast thou slain the Jabberwock?       Come to my arms, my beamish boy! O frabjous day! Callooh! Callay!”       He chortled in his joy.   ’Twas brillig, and the slithy toves       Did gyre and gimble in the wabe: All mimsy were the borogoves,       And the mome raths outgrabe.\n",
      "\n",
      "Thanks for using the vowel counter.\n",
      "There are 240 lowercase vowels\n",
      "There are 12 uppercase vowels\n"
     ]
    }
   ],
   "source": [
    "Lowercase_vowel = ['a', 'e', 'i', 'o', 'u']    #This will be the list of characters that we're searching for.\n",
    "Uppercase_vowel = ['A', 'E', 'I', 'O', 'U']    # I've broken them up in to two groups upper and lower case.\n",
    "Lowercase_count = 0                            #Counter for Lowercase vowels\n",
    "Uppercase_count = 0                            #Counter for Uppercase vowels\n",
    "Poem = input(\"Enter poem: \")                   #This lets the user input some text.\n",
    "count = 0                                      #Count starts at zero\n",
    "for letter in Poem:                            #I'm using a for loop to iterate over the sequence of letters.\n",
    "    if letter in Lowercase_vowel:              #If letter is a lowercase vowel, it will be counted.\n",
    "        Lowercase_count += 1                             #Every time we find a lowercase vowel the count rises by 1.\n",
    "    if letter in Uppercase_vowel:                        #If letter is a upperercase vowel, it will be counted\n",
    "        Uppercase_count += 1                             #Every time we find an uppercase vowel the count rises by 1.\n",
    "else:\n",
    "    print(\"\\nThanks for using the vowel counter.\")       \n",
    "print(\"There are\", Lowercase_count, \"lowercase vowels\")  #Print will then send result to the console\n",
    "print(\"There are\", Uppercase_count, \"uppercase vowels\")"
   ]
  },
  {
   "cell_type": "code",
   "execution_count": null,
   "id": "ab39cd11",
   "metadata": {},
   "outputs": [],
   "source": []
  },
  {
   "cell_type": "code",
   "execution_count": 2,
   "id": "d9c60001",
   "metadata": {},
   "outputs": [
    {
     "name": "stdout",
     "output_type": "stream",
     "text": [
      "Enter a poem or text to count the number of vowels: \n",
      "\n",
      " ’Twas brillig, and the slithy toves       Did gyre and gimble in the wabe: All mimsy were the borogoves,       And the mome raths outgrabe.   “Beware the Jabberwock, my son!       The jaws that bite, the claws that catch! Beware the Jubjub bird, and shun       The frumious Bandersnatch!”   He took his vorpal sword in hand;       Long time the manxome foe he sought— So rested he by the Tumtum tree       And stood awhile in thought.   And, as in uffish thought he stood,       The Jabberwock, with eyes of flame, Came whiffling through the tulgey wood,       And burbled as it came!   One, two! One, two! And through and through       The vorpal blade went snicker-snack! He left it dead, and with its head       He went galumphing back.   “And hast thou slain the Jabberwock?       Come to my arms, my beamish boy! O frabjous day! Callooh! Callay!”       He chortled in his joy.   ’Twas brillig, and the slithy toves       Did gyre and gimble in the wabe: All mimsy were the borogoves,       And the mome raths outgrabe.\n",
      "\n",
      "There are 252 vowels in total\n",
      "\n",
      "There are 240 lowercase vowels\n",
      "\n",
      "There are 12 uppercase vowels\n"
     ]
    }
   ],
   "source": [
    "Vowel = ['a', 'e', 'i', 'o', 'u', 'A', 'E', 'I', 'O', 'U']  #This will be the list of characters that we're searching for total.\n",
    "Lowercase_vowel = ['a', 'e', 'i', 'o', 'u']    # I've broken them up in to two groups upper and lower case.\n",
    "Uppercase_vowel = ['A', 'E', 'I', 'O', 'U']    # I've broken them up in to two groups upper and lower case.\n",
    "\n",
    "\n",
    "Lowercase_count = 0                            #Initiate Counter for Lowercase vowels start from zero.\n",
    "Uppercase_count = 0                            #Initiate Counter for Uppercase vowels start from zero.\n",
    "Vowel_count = 0                                #Initiate Counter for Vowels total start from zero.\n",
    "\n",
    "\n",
    "Poem = input(\"Enter a poem or text to count the number of vowels: \\n\\n\")    #This lets the user input some text \n",
    "                                                                                        #(a sequence of letters).\n",
    "\n",
    "\n",
    "for letter in Poem:                            #I'm using a for loop to iterate over the sequence of letters.\n",
    "    if letter in Vowel:                                  #If letter is a vowel, it will be counted.\n",
    "        Vowel_count += 1                                 #Every time we find an vowel the count rises by 1.\n",
    "    if letter in Lowercase_vowel:                        #If letter is a lowercase vowel, it will be counted.\n",
    "        Lowercase_count += 1                             #Every time we find a lowercase vowel the count rises by 1.\n",
    "    if letter in Uppercase_vowel:                        #If letter is a upperercase vowel, it will be counted\n",
    "        Uppercase_count += 1                             #Every time we find an uppercase vowel the count rises by 1.      \n",
    "              \n",
    "print(\"\\nThere are\", Vowel_count, \"vowels in total\")       #Print will then send result of Vowel_count to the console.\n",
    "print(\"\\nThere are\", Lowercase_count, \"lowercase vowels\")  #Print will then send result of lowercase_count to the console.\n",
    "print(\"\\nThere are\", Uppercase_count, \"uppercase vowels\")  #Print will then send result of Upperrcase_count to the console.\n",
    "\n",
    "#I decided to keep the 3 counters, as a check against my upper and lowercase totals.\n",
    "#Also I like the input method to enter the poem. This means that the program will be useful for other poems and texts too!"
   ]
  },
  {
   "cell_type": "code",
   "execution_count": null,
   "id": "5ac300ba",
   "metadata": {},
   "outputs": [],
   "source": []
  }
 ],
 "metadata": {
  "kernelspec": {
   "display_name": "Python 3 (ipykernel)",
   "language": "python",
   "name": "python3"
  },
  "language_info": {
   "codemirror_mode": {
    "name": "ipython",
    "version": 3
   },
   "file_extension": ".py",
   "mimetype": "text/x-python",
   "name": "python",
   "nbconvert_exporter": "python",
   "pygments_lexer": "ipython3",
   "version": "3.9.7"
  }
 },
 "nbformat": 4,
 "nbformat_minor": 5
}
